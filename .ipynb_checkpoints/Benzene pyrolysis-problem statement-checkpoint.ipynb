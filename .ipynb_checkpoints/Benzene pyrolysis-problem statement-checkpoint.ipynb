{
 "cells": [
  {
   "cell_type": "markdown",
   "metadata": {},
   "source": [
    "# Benzene pyrolysis in a PFR\n",
    "\n",
    "*Rawlings example 4.5*\n",
    "\n",
    "Hougen and Watson analyzed the rate data for the pyrolysis of benzene by the following two reactions. Diphenyl is produced by the dehydrogenation of benzene,\n",
    "\n",
    "$$2 C_{2}H_{6} \\rightleftharpoons C_{12}H_{10} + H_{2} $$\n",
    "\n",
    "Triphenyl is formed by the secondary reaction,\n",
    "\n",
    "$$ C_{6}H_{6} + C_{12}H_{10} \\rightleftharpoons C_{18}H_{14} + H_{2}$$\n",
    "\n",
    "The reactions are assumed to be elementary so that the rate expressions are\n",
    "\n",
    "$$ r_1 = k_1 \\cdot \\biggl(C_B^2-\\frac{C_D \\cdot C_H}{K_{C,1}}\\biggr) $$\n",
    "\n",
    "$$ r_2 = k_2 \\cdot \\biggl(C_B\\cdot C_D-\\frac{C_T \\cdot C_H}{K_{C,2}}\\biggr) $$\n",
    "\n",
    "in which the subscripts B, D, T, and H represent benzene, diphenyl, triphenyl, and hydrogen, respectively.\n",
    "\n",
    "### Goal: determine volume required to achieve 50% benzene conversion\n",
    "\n",
    "Additional data:\n",
    "\n",
    "- Isothermal: $T = 1033 \\ K$\n",
    "- Isobaric: $P = 1 \\ atm$\n",
    "- $k_1 = 7 \\cdot 10^5 \\ L \\ / \\ mol \\cdot hr  \\ \\ \\ \\ \\ K_{C,1} = 0.31$\n",
    "- $k_2 = 4 \\cdot 10^5 \\ L \\ / \\ mol \\cdot hr  \\ \\ \\ \\ \\ K_{C,2} = 0.48$\n",
    "- Ideal gas"
   ]
  },
  {
   "cell_type": "code",
   "execution_count": null,
   "metadata": {},
   "outputs": [],
   "source": []
  }
 ],
 "metadata": {
  "kernelspec": {
   "display_name": "Python 3",
   "language": "python",
   "name": "python3"
  },
  "language_info": {
   "codemirror_mode": {
    "name": "ipython",
    "version": 3
   },
   "file_extension": ".py",
   "mimetype": "text/x-python",
   "name": "python",
   "nbconvert_exporter": "python",
   "pygments_lexer": "ipython3",
   "version": "3.7.6"
  }
 },
 "nbformat": 4,
 "nbformat_minor": 4
}
