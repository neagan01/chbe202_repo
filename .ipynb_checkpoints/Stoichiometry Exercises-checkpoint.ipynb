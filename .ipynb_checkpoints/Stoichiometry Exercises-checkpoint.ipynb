{
 "cells": [
  {
   "cell_type": "markdown",
   "id": "b6fe494c-d13e-4320-bfe3-5bf3146f6e22",
   "metadata": {},
   "source": [
    "# Stoichiometry Exercises"
   ]
  },
  {
   "cell_type": "markdown",
   "id": "bcd7f441-8a40-4608-8e11-182ca3f125ee",
   "metadata": {},
   "source": [
    "*These exercises accompany Lecture 2.*"
   ]
  },
  {
   "cell_type": "code",
   "execution_count": 10,
   "id": "092a3701-346c-4f5c-b2bc-6545e0608d8c",
   "metadata": {},
   "outputs": [],
   "source": [
    "###### Import packages\n",
    "import numpy as np\n",
    "from numpy.linalg import matrix_rank as rank"
   ]
  },
  {
   "cell_type": "code",
   "execution_count": 12,
   "id": "26f8b083-6a45-4ed6-b778-11833e2012dd",
   "metadata": {},
   "outputs": [
    {
     "name": "stdout",
     "output_type": "stream",
     "text": [
      "rank of NO ox matrix = 1\n",
      "rank of wgs matrix = 2\n"
     ]
    }
   ],
   "source": [
    "###### Exercise 1\n",
    "\n",
    "A_NO_ox = ['NO','O2','NO2']\n",
    "nu_NO_ox = np.array([-2,-1,2])\n",
    "rank_NO_ox = rank(nu_NO_ox)\n",
    "print('rank of NO ox matrix =',rank_NO_ox)\n",
    "\n",
    "A_wgs = ['H','H2','OH','H2O','CO','CO2']\n",
    "nu_wgs = np.array(([0,1,0,-1,-1,1],[-1,1,1,-1,0,0],[1,0,-1,0,-1,1]))\n",
    "rank_wgs = rank(nu_wgs)\n",
    "print('rank of wgs matrix =',rank_wgs)\n"
   ]
  },
  {
   "cell_type": "code",
   "execution_count": 24,
   "id": "459b984c-62b6-4396-97b3-5b4d7fe62ebc",
   "metadata": {},
   "outputs": [
    {
     "name": "stdout",
     "output_type": "stream",
     "text": [
      "\n",
      "NO oxidation: nu dot M = -1.4210854715202004e-14\n",
      "\n",
      "WGS: nu dot M= [ 0.00000000e+00  1.99840144e-15 -3.55271368e-15]\n"
     ]
    }
   ],
   "source": [
    "###### Exercise 2\n",
    "M_NO_ox = np.array([30.01,32.00,46.01])\n",
    "print('\\nNO oxidation: nu dot M =',np.dot(nu_NO_ox,M_NO_ox))\n",
    "\n",
    "M_wgs = np.array([1.01,2.02,17.01,18.02,28.01,44.01])\n",
    "print('\\nWGS: nu dot M=',np.dot(nu_wgs,M_wgs)) "
   ]
  },
  {
   "cell_type": "code",
   "execution_count": null,
   "id": "3f7b557e-710c-44ec-aaeb-1724e81944b1",
   "metadata": {},
   "outputs": [],
   "source": []
  }
 ],
 "metadata": {
  "kernelspec": {
   "display_name": "Python 3 (ipykernel)",
   "language": "python",
   "name": "python3"
  },
  "language_info": {
   "codemirror_mode": {
    "name": "ipython",
    "version": 3
   },
   "file_extension": ".py",
   "mimetype": "text/x-python",
   "name": "python",
   "nbconvert_exporter": "python",
   "pygments_lexer": "ipython3",
   "version": "3.9.12"
  }
 },
 "nbformat": 4,
 "nbformat_minor": 5
}
