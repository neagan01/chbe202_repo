{
 "cells": [
  {
   "cell_type": "markdown",
   "id": "20c44b38-5a29-49eb-a588-7467aa5c7829",
   "metadata": {},
   "source": [
    "# Reversible two-reaction gas-phase CSTR"
   ]
  },
  {
   "cell_type": "code",
   "execution_count": 12,
   "id": "439d7de2-4ff2-4c03-8fdb-5255ff1df83f",
   "metadata": {},
   "outputs": [
    {
     "name": "stdout",
     "output_type": "stream",
     "text": [
      "Zerocheck: [7.076164365571458e-08, 1.114981273531157e-06, 0.0, 1.0994247179318961e-10, -1.4256040792304248e-10, -3.1971292280275065e-10, 4.622725535696759e-10, 0.0]\n",
      "\n",
      " [[4.41133225e+02]\n",
      " [2.41024813e+02]\n",
      " [4.41133226e-01]\n",
      " [2.41024812e-01]\n",
      " [2.56112496e-01]\n",
      " [3.55458828e-01]\n",
      " [3.88428677e-01]\n",
      " [1.24102481e+03]]\n"
     ]
    }
   ],
   "source": [
    "########## Reversible two-reaction gas-phase CSTR ##########\n",
    "\n",
    "###### Import packages\n",
    "import numpy as np\n",
    "import scipy.optimize as opt\n",
    "\n",
    "###### Define known values\n",
    "\n",
    "V = 1000 # L \n",
    "\n",
    "CA0 = 1 # mol / L\n",
    "CB0 = 0 # mol / L\n",
    "CC0 = 0 # mol / L\n",
    "C0 = np.array([[1,0,0]]) # Matrix version\n",
    "\n",
    "v0 = 1000 # L / hr\n",
    "\n",
    "FA0 = CA0 * v0\n",
    "FB0 = CB0 * v0\n",
    "FC0 = CC0 * v0\n",
    "Ftot0 = FA0 + FB0 + FC0\n",
    "F0 = C0*v0 # Matrix version\n",
    "Ftot0 = np.sum(F0) # Matrix version\n",
    "\n",
    "kp1 = 2 # 1 / hr\n",
    "km1 = 0.2 # 1 / hr\n",
    "\n",
    "kp2 = 1 # 1 / hr\n",
    "km2 = 0.1 # L / mol hr\n",
    "\n",
    "###### Define system of equations\n",
    "\n",
    "def equations(U):\n",
    "    \n",
    "    ### Redefine variables\n",
    "    xi1 = U[0]\n",
    "    xi2 = U[1]\n",
    "    r1  = U[2]\n",
    "    r2  = U[3]\n",
    "    CA  = U[4]\n",
    "    CB  = U[5]\n",
    "    CC  = U[6]\n",
    "    v   = U[7] \n",
    "    # Alternatively, could have written just [V,xi1,xi2,r1,r2,CA,CB,CC,v]=U\n",
    "    \n",
    "    ### Define equations\n",
    "    setzero = np.zeros(len(U))\n",
    "    setzero[0] = V - (-xi1-xi2)/(-r1-r2)\n",
    "    setzero[1] = V - xi1/r1\n",
    "    #setzero[2] = V - 2*xi1/(2*r2)\n",
    "    setzero[2] = r1 - (kp1*CA-km1*CB)\n",
    "    setzero[3] = r2 - (kp2*CA-km2*CC**2)\n",
    "    setzero[4] = CA - (FA0 - xi1 - xi2)/v\n",
    "    setzero[5] = CB - (FB0 + xi1)/v\n",
    "    setzero[6] = CC - (FC0 + 2*xi2)/v\n",
    "    setzero[7] = v-v0*(1+xi2/Ftot0)\n",
    "    \n",
    "    ### Reorganize list to fit required dimensions \n",
    "    setzero = np.array(setzero).tolist()\n",
    "    \n",
    "    return setzero\n",
    "                       \n",
    "###### Solve based on initial guesses\n",
    "\n",
    "### Initial guesses\n",
    "varguess = [100,100,0.01,0.01,1,1,1,100]\n",
    "\n",
    "### Solver\n",
    "U = opt.fsolve(equations,varguess)   # Enter function vollowed by variable guesses\n",
    "U = np.array([U])                # Convert to numpy array for convenience\n",
    "\n",
    "print('Zerocheck:',equations(U[0]))\n",
    "\n",
    "print('\\n',U.T)"
   ]
  },
  {
   "cell_type": "code",
   "execution_count": null,
   "id": "f8b76fec-e12b-4f9d-bfe9-2caac1e772bb",
   "metadata": {},
   "outputs": [],
   "source": []
  }
 ],
 "metadata": {
  "kernelspec": {
   "display_name": "Python 3 (ipykernel)",
   "language": "python",
   "name": "python3"
  },
  "language_info": {
   "codemirror_mode": {
    "name": "ipython",
    "version": 3
   },
   "file_extension": ".py",
   "mimetype": "text/x-python",
   "name": "python",
   "nbconvert_exporter": "python",
   "pygments_lexer": "ipython3",
   "version": "3.9.12"
  }
 },
 "nbformat": 4,
 "nbformat_minor": 5
}
