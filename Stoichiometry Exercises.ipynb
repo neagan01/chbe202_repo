{
 "cells": [
  {
   "cell_type": "markdown",
   "id": "b6fe494c-d13e-4320-bfe3-5bf3146f6e22",
   "metadata": {},
   "source": [
    "# Stoichiometry Exercises"
   ]
  },
  {
   "cell_type": "markdown",
   "id": "bcd7f441-8a40-4608-8e11-182ca3f125ee",
   "metadata": {},
   "source": [
    "*These exercises accompany Lecture 2.*"
   ]
  },
  {
   "cell_type": "code",
   "execution_count": 64,
   "id": "26f8b083-6a45-4ed6-b778-11833e2012dd",
   "metadata": {},
   "outputs": [
    {
     "name": "stdout",
     "output_type": "stream",
     "text": [
      "NO oxidation nu matrix:\n",
      " [[-2 -1  2]]\n",
      "\n",
      "NO oxidation: nu dot M = [[-1.42108547e-14]]\n",
      "\n",
      "Entries that are essentially zero:\n",
      " [[ True]]\n",
      "\n",
      "\n",
      "WGS nu matrix:\n",
      " [[ 0  1  0 -1 -1  1]\n",
      " [-1  1  1 -1  0  0]\n",
      " [ 1  0 -1  0 -1  1]]\n",
      "\n",
      "WGS: nu dot M=\n",
      " [[ 0.00000000e+00]\n",
      " [ 1.99840144e-15]\n",
      " [-3.55271368e-15]]\n",
      "\n",
      "Entries that are essentially zero:\n",
      " [[ True]\n",
      " [ True]\n",
      " [ True]]\n"
     ]
    }
   ],
   "source": [
    "###### Exercise 1\n",
    "import numpy as np\n",
    "\n",
    "A_NO_ox = ['NO','O2','NO2']\n",
    "nu_NO_ox = np.array([[-2,-1,2]])\n",
    "M_NO_ox = np.array([[30.01,32.00,46.01]]).T\n",
    "print('NO oxidation nu matrix:\\n',nu_NO_ox)\n",
    "print('\\nNO oxidation: nu dot M =',np.dot(nu_NO_ox,M_NO_ox))\n",
    "print('\\nEntries that are essentially zero:\\n', np.dot(nu_NO_ox,M_NO_ox)**2<1E-13)\n",
    "\n",
    "A_wgs = ['H','H2','OH','H2O','CO','CO2']\n",
    "nu_wgs = np.array([[0,1,0,-1,-1,1],[-1,1,1,-1,0,0],[1,0,-1,0,-1,1]])\n",
    "M_wgs = np.array([[1.01,2.02,17.01,18.02,28.01,44.01]]).T\n",
    "print('\\n\\nWGS nu matrix:\\n',nu_wgs)\n",
    "print('\\nWGS: nu dot M=\\n',np.dot(nu_wgs,M_wgs)) \n",
    "print('\\nEntries that are essentially zero:\\n', np.dot(nu_wgs,M_wgs)**2<1E-13)\n"
   ]
  },
  {
   "cell_type": "code",
   "execution_count": 65,
   "id": "459b984c-62b6-4396-97b3-5b4d7fe62ebc",
   "metadata": {},
   "outputs": [
    {
     "name": "stdout",
     "output_type": "stream",
     "text": [
      "Rank of NO oxidation nu matrix = 1\n",
      "All reactions are linearly independent.\n",
      "\n",
      "Rank of WGS nu matrix = 2\n",
      "The reactions are linearly dependent.\n",
      "There are 1 more reactions than needed to satisfy the overall balance.\n"
     ]
    }
   ],
   "source": [
    "###### Exercise 2\n",
    "from numpy.linalg import matrix_rank as rank # Not essential, but makes things easier to read\n",
    "\n",
    "rank_NO_ox = rank(nu_NO_ox)\n",
    "print('Rank of NO oxidation nu matrix =',rank_NO_ox)\n",
    "\n",
    "n_rxns_NO_ox = np.shape(nu_NO_ox)[0] # number of rows\n",
    "\n",
    "### If-then statements written to describe linear dependence\n",
    "if rank_NO_ox < n_rxns_NO_ox:\n",
    "    print('The reactions are linearly dependent.')\n",
    "    print('There are',n_rxns_NO_ox-rank_NO_ox,'more reactions than needed to satisfy the overall balance.')\n",
    "elif rank_NO_ox == n_rxns_NO_ox:\n",
    "    print('All reactions are linearly independent.')\n",
    "elif rank_NO_ox > n_rxns_NO_ox:\n",
    "    print('This is not possible. Check your work.')\n",
    "\n",
    "rank_wgs = rank(nu_wgs)\n",
    "print('\\nRank of WGS nu matrix =',rank_wgs)\n",
    "\n",
    "n_rxns_wgs = np.shape(nu_wgs)[0]\n",
    "\n",
    "### If-then statements written to describe linear dependence\n",
    "if rank_wgs < n_rxns_wgs:\n",
    "    print('The reactions are linearly dependent.')\n",
    "    print('There are',n_rxns_wgs-rank_wgs,'more reactions than needed to satisfy the overall balance.')\n",
    "elif rank_wgs == n_rxns_wgs:\n",
    "    print('All reactions are linearly independent.')\n",
    "elif rank_wgs > n_rxns_wgs:\n",
    "    print('This is not possible. Check your work.')\n"
   ]
  },
  {
   "cell_type": "code",
   "execution_count": 52,
   "id": "cf31c80d-0b09-4fb3-8918-d87753ffb2c6",
   "metadata": {},
   "outputs": [
    {
     "name": "stdout",
     "output_type": "stream",
     "text": [
      "nu_NO_ox is\n",
      " [-2 -1  2] \n",
      "and its transpose is\n",
      " [-2 -1  2]\n"
     ]
    },
    {
     "ename": "ValueError",
     "evalue": "shapes (3,) and (1,) not aligned: 3 (dim 0) != 1 (dim 0)",
     "output_type": "error",
     "traceback": [
      "\u001b[1;31m---------------------------------------------------------------------------\u001b[0m",
      "\u001b[1;31mValueError\u001b[0m                                Traceback (most recent call last)",
      "Input \u001b[1;32mIn [52]\u001b[0m, in \u001b[0;36m<cell line: 5>\u001b[1;34m()\u001b[0m\n\u001b[0;32m      3\u001b[0m \u001b[38;5;28mprint\u001b[39m(\u001b[38;5;124m'\u001b[39m\u001b[38;5;124mnu_NO_ox is\u001b[39m\u001b[38;5;130;01m\\n\u001b[39;00m\u001b[38;5;124m'\u001b[39m,nu_NO_ox,\u001b[38;5;124m'\u001b[39m\u001b[38;5;130;01m\\n\u001b[39;00m\u001b[38;5;124mand its transpose is\u001b[39m\u001b[38;5;130;01m\\n\u001b[39;00m\u001b[38;5;124m'\u001b[39m,nu_NO_ox\u001b[38;5;241m.\u001b[39mT)\n\u001b[0;32m      4\u001b[0m r_NO_ox \u001b[38;5;241m=\u001b[39m [\u001b[38;5;241m5\u001b[39m]\n\u001b[1;32m----> 5\u001b[0m R_NO_ox \u001b[38;5;241m=\u001b[39m \u001b[43mnp\u001b[49m\u001b[38;5;241;43m.\u001b[39;49m\u001b[43mdot\u001b[49m\u001b[43m(\u001b[49m\u001b[43mnu_NO_ox\u001b[49m\u001b[38;5;241;43m.\u001b[39;49m\u001b[43mT\u001b[49m\u001b[43m,\u001b[49m\u001b[43mr_NO_ox\u001b[49m\u001b[43m)\u001b[49m\n\u001b[0;32m      6\u001b[0m \u001b[38;5;66;03m#print('Given that r_NO_ox is:\\n',r_NO_ox,'we find that R_NO_ox is\\n',R_NO_ox_labels,'=',R_NO_ox)\u001b[39;00m\n\u001b[0;32m      8\u001b[0m \u001b[38;5;28mprint\u001b[39m(\u001b[38;5;124m'\u001b[39m\u001b[38;5;130;01m\\n\u001b[39;00m\u001b[38;5;124mnu_wgs is\u001b[39m\u001b[38;5;130;01m\\n\u001b[39;00m\u001b[38;5;124m'\u001b[39m,nu_wgs,\u001b[38;5;124m'\u001b[39m\u001b[38;5;130;01m\\n\u001b[39;00m\u001b[38;5;124mand its transpose is\u001b[39m\u001b[38;5;130;01m\\n\u001b[39;00m\u001b[38;5;124m'\u001b[39m,nu_wgs\u001b[38;5;241m.\u001b[39mT)\n",
      "File \u001b[1;32m<__array_function__ internals>:180\u001b[0m, in \u001b[0;36mdot\u001b[1;34m(*args, **kwargs)\u001b[0m\n",
      "\u001b[1;31mValueError\u001b[0m: shapes (3,) and (1,) not aligned: 3 (dim 0) != 1 (dim 0)"
     ]
    }
   ],
   "source": [
    "###### Exercise 3\n",
    "\n",
    "print('nu_NO_ox is\\n',nu_NO_ox,'\\nand its transpose is\\n',nu_NO_ox.T)\n",
    "r_NO_ox = [5]\n",
    "R_NO_ox = np.dot(nu_NO_ox.T,r_NO_ox)\n",
    "#print('Given that r_NO_ox is:\\n',r_NO_ox,'we find that R_NO_ox is\\n',R_NO_ox_labels,'=',R_NO_ox)\n",
    "\n",
    "print('\\nnu_wgs is\\n',nu_wgs,'\\nand its transpose is\\n',nu_wgs.T)\n",
    "r_wgs = np.array([[1],[2],[4]])\n",
    "R_wgs = np.dot(nu_wgs.T,r_wgs)\n",
    "print('Given that r_wgs is:\\n',r_wgs,'\\nwe find that R_wgs is\\n',R_wgs)\n",
    "\n",
    "import pandas as pd\n",
    "r_wgs_df = pd.DataFrame(data=R_wgs,index=A_wgs,columns=['R_j'])\n",
    "r_wgs_df\n"
   ]
  },
  {
   "cell_type": "code",
   "execution_count": 56,
   "id": "5287dfe1-5876-4635-80bc-bccdc56c3791",
   "metadata": {},
   "outputs": [
    {
     "data": {
      "text/plain": [
       "(1, 3)"
      ]
     },
     "execution_count": 56,
     "metadata": {},
     "output_type": "execute_result"
    }
   ],
   "source": [
    "np.shape(np.array([[1,2,2]]))"
   ]
  },
  {
   "cell_type": "code",
   "execution_count": null,
   "id": "3d2ba1ee-ec45-4067-9489-ecc1474e7a09",
   "metadata": {},
   "outputs": [],
   "source": []
  }
 ],
 "metadata": {
  "kernelspec": {
   "display_name": "Python 3 (ipykernel)",
   "language": "python",
   "name": "python3"
  },
  "language_info": {
   "codemirror_mode": {
    "name": "ipython",
    "version": 3
   },
   "file_extension": ".py",
   "mimetype": "text/x-python",
   "name": "python",
   "nbconvert_exporter": "python",
   "pygments_lexer": "ipython3",
   "version": "3.9.12"
  }
 },
 "nbformat": 4,
 "nbformat_minor": 5
}
