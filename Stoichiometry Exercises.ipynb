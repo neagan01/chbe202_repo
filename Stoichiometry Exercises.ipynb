{
 "cells": [
  {
   "cell_type": "markdown",
   "id": "b6fe494c-d13e-4320-bfe3-5bf3146f6e22",
   "metadata": {},
   "source": [
    "# Stoichiometry Exercises"
   ]
  },
  {
   "cell_type": "markdown",
   "id": "bcd7f441-8a40-4608-8e11-182ca3f125ee",
   "metadata": {},
   "source": [
    "*These exercises accompany Lecture 2.*"
   ]
  },
  {
   "cell_type": "code",
   "execution_count": 1,
   "id": "26f8b083-6a45-4ed6-b778-11833e2012dd",
   "metadata": {},
   "outputs": [
    {
     "name": "stdout",
     "output_type": "stream",
     "text": [
      "NO oxidation nu matrix:\n",
      " [[-2 -1  2]]\n",
      "\n",
      "NO oxidation: nu dot M = [[-1.42108547e-14]]\n",
      "\n",
      "Entries that are essentially zero:\n",
      " [[ True]]\n",
      "\n",
      "\n",
      "WGS nu matrix:\n",
      " [[ 0  1  0 -1 -1  1]\n",
      " [-1  1  1 -1  0  0]\n",
      " [ 1  0 -1  0 -1  1]]\n",
      "\n",
      "WGS: nu dot M=\n",
      " [[ 0.00000000e+00]\n",
      " [ 1.99840144e-15]\n",
      " [-3.55271368e-15]]\n",
      "\n",
      "Entries that are essentially zero:\n",
      " [[ True]\n",
      " [ True]\n",
      " [ True]]\n"
     ]
    }
   ],
   "source": [
    "###### Exercise 1\n",
    "import numpy as np\n",
    "\n",
    "A_NO_ox = ['NO','O2','NO2']\n",
    "nu_NO_ox = np.array([[-2,-1,2]])\n",
    "M_NO_ox = np.array([[30.01,32.00,46.01]]).T\n",
    "print('NO oxidation nu matrix:\\n',nu_NO_ox)\n",
    "print('\\nNO oxidation: nu dot M =',np.dot(nu_NO_ox,M_NO_ox))\n",
    "print('\\nEntries that are essentially zero:\\n', np.dot(nu_NO_ox,M_NO_ox)**2<1E-13)\n",
    "\n",
    "A_wgs = ['H','H2','OH','H2O','CO','CO2']\n",
    "nu_wgs = np.array([[0,1,0,-1,-1,1],[-1,1,1,-1,0,0],[1,0,-1,0,-1,1]])\n",
    "M_wgs = np.array([[1.01,2.02,17.01,18.02,28.01,44.01]]).T\n",
    "print('\\n\\nWGS nu matrix:\\n',nu_wgs)\n",
    "print('\\nWGS: nu dot M=\\n',np.dot(nu_wgs,M_wgs)) \n",
    "print('\\nEntries that are essentially zero:\\n', np.dot(nu_wgs,M_wgs)**2<1E-13)\n"
   ]
  },
  {
   "cell_type": "code",
   "execution_count": 2,
   "id": "459b984c-62b6-4396-97b3-5b4d7fe62ebc",
   "metadata": {
    "tags": []
   },
   "outputs": [
    {
     "name": "stdout",
     "output_type": "stream",
     "text": [
      "Rank of NO oxidation nu matrix = 1\n",
      "All reactions are linearly independent.\n",
      "\n",
      "Rank of WGS nu matrix = 2\n",
      "The reactions are linearly dependent.\n",
      "There are 1 more reactions than needed to satisfy the overall balance.\n"
     ]
    }
   ],
   "source": [
    "###### Exercise 2\n",
    "rank_NO_ox = np.linalg.matrix_rank(nu_NO_ox)\n",
    "print('Rank of NO oxidation nu matrix =',rank_NO_ox)\n",
    "\n",
    "n_rxns_NO_ox = np.shape(nu_NO_ox)[0] # number of rows\n",
    "\n",
    "### If-then statements written to describe linear dependence\n",
    "if rank_NO_ox < n_rxns_NO_ox:\n",
    "    print('The reactions are linearly dependent.')\n",
    "    print('There are',n_rxns_NO_ox-rank_NO_ox,'more reactions than needed to satisfy the overall balance.')\n",
    "elif rank_NO_ox == n_rxns_NO_ox:\n",
    "    print('All reactions are linearly independent.')\n",
    "elif rank_NO_ox > n_rxns_NO_ox:\n",
    "    print('This is not possible. Check your work.')\n",
    "\n",
    "rank_wgs = np.linalg.matrix_rank(nu_wgs)\n",
    "print('\\nRank of WGS nu matrix =',rank_wgs)\n",
    "\n",
    "n_rxns_wgs = np.shape(nu_wgs)[0]\n",
    "\n",
    "### If-then statements written to describe linear dependence\n",
    "if rank_wgs < n_rxns_wgs:\n",
    "    print('The reactions are linearly dependent.')\n",
    "    print('There are',n_rxns_wgs-rank_wgs,'more reactions than needed to satisfy the overall balance.')\n",
    "elif rank_wgs == n_rxns_wgs:\n",
    "    print('All reactions are linearly independent.')\n",
    "elif rank_wgs > n_rxns_wgs:\n",
    "    print('This is not possible. Check your work.')\n"
   ]
  },
  {
   "cell_type": "code",
   "execution_count": 4,
   "id": "cf31c80d-0b09-4fb3-8918-d87753ffb2c6",
   "metadata": {
    "tags": []
   },
   "outputs": [
    {
     "name": "stdout",
     "output_type": "stream",
     "text": [
      "nu_NO_ox is\n",
      " [[-2 -1  2]] \n",
      "and its transpose is\n",
      " [[-2]\n",
      " [-1]\n",
      " [ 2]]\n",
      "\n",
      "nu_wgs is\n",
      " [[ 0  1  0 -1 -1  1]\n",
      " [-1  1  1 -1  0  0]\n",
      " [ 1  0 -1  0 -1  1]] \n",
      "and its transpose is\n",
      " [[ 0 -1  1]\n",
      " [ 1  1  0]\n",
      " [ 0  1 -1]\n",
      " [-1 -1  0]\n",
      " [-1  0 -1]\n",
      " [ 1  0  1]]\n",
      "Given that r_wgs is:\n",
      " [[1]\n",
      " [2]\n",
      " [4]] \n",
      "we find that R_wgs is\n",
      " [[ 2]\n",
      " [ 3]\n",
      " [-2]\n",
      " [-3]\n",
      " [-5]\n",
      " [ 5]]\n"
     ]
    },
    {
     "data": {
      "text/html": [
       "<div>\n",
       "<style scoped>\n",
       "    .dataframe tbody tr th:only-of-type {\n",
       "        vertical-align: middle;\n",
       "    }\n",
       "\n",
       "    .dataframe tbody tr th {\n",
       "        vertical-align: top;\n",
       "    }\n",
       "\n",
       "    .dataframe thead th {\n",
       "        text-align: right;\n",
       "    }\n",
       "</style>\n",
       "<table border=\"1\" class=\"dataframe\">\n",
       "  <thead>\n",
       "    <tr style=\"text-align: right;\">\n",
       "      <th></th>\n",
       "      <th>R_j</th>\n",
       "    </tr>\n",
       "  </thead>\n",
       "  <tbody>\n",
       "    <tr>\n",
       "      <th>H</th>\n",
       "      <td>2</td>\n",
       "    </tr>\n",
       "    <tr>\n",
       "      <th>H2</th>\n",
       "      <td>3</td>\n",
       "    </tr>\n",
       "    <tr>\n",
       "      <th>OH</th>\n",
       "      <td>-2</td>\n",
       "    </tr>\n",
       "    <tr>\n",
       "      <th>H2O</th>\n",
       "      <td>-3</td>\n",
       "    </tr>\n",
       "    <tr>\n",
       "      <th>CO</th>\n",
       "      <td>-5</td>\n",
       "    </tr>\n",
       "    <tr>\n",
       "      <th>CO2</th>\n",
       "      <td>5</td>\n",
       "    </tr>\n",
       "  </tbody>\n",
       "</table>\n",
       "</div>"
      ],
      "text/plain": [
       "     R_j\n",
       "H      2\n",
       "H2     3\n",
       "OH    -2\n",
       "H2O   -3\n",
       "CO    -5\n",
       "CO2    5"
      ]
     },
     "execution_count": 4,
     "metadata": {},
     "output_type": "execute_result"
    }
   ],
   "source": [
    "###### Exercise 3\n",
    "\n",
    "print('nu_NO_ox is\\n',nu_NO_ox,'\\nand its transpose is\\n',nu_NO_ox.T)\n",
    "r_NO_ox = [5]\n",
    "R_NO_ox = np.dot(nu_NO_ox.T,r_NO_ox)\n",
    "#print('Given that r_NO_ox is:\\n',r_NO_ox,'we find that R_NO_ox is\\n',R_NO_ox_labels,'=',R_NO_ox)\n",
    "\n",
    "print('\\nnu_wgs is\\n',nu_wgs,'\\nand its transpose is\\n',nu_wgs.T)\n",
    "r_wgs = np.array([[1,2,4]]).T\n",
    "R_wgs = np.dot(nu_wgs.T,r_wgs)\n",
    "print('Given that r_wgs is:\\n',r_wgs,'\\nwe find that R_wgs is\\n',R_wgs)\n",
    "\n",
    "import pandas as pd\n",
    "r_wgs_df = pd.DataFrame(data=R_wgs,index=A_wgs,columns=['R_j'])\n",
    "r_wgs_df\n"
   ]
  },
  {
   "cell_type": "code",
   "execution_count": 8,
   "id": "5287dfe1-5876-4635-80bc-bccdc56c3791",
   "metadata": {
    "tags": []
   },
   "outputs": [
    {
     "name": "stdout",
     "output_type": "stream",
     "text": [
      "Imagine you see that R_wgs =\n",
      " [[ 2]\n",
      " [ 3]\n",
      " [-2]\n",
      " [-3]\n",
      " [-5]\n",
      " [ 5]]\n",
      "\n",
      "when nu_wgs is instead\n",
      " [[-1  1  1 -1  0  0]\n",
      " [ 1  0 -1  0 -1  1]]\n",
      "The transpose of nu_wgs is\n",
      " [[-1  1]\n",
      " [ 1  0]\n",
      " [ 1 -1]\n",
      " [-1  0]\n",
      " [ 0 -1]\n",
      " [ 0  1]]\n",
      "The dot product of nu_wgs and its inverse is\n",
      " [[ 4 -2]\n",
      " [-2  4]]\n",
      "The inverse of the nu dot nu_wgs is\n",
      " [[0.33333333 0.16666667]\n",
      " [0.16666667 0.33333333]]\n",
      "Therefore r_wgs is\n",
      " [[3.]\n",
      " [5.]]\n",
      "\n",
      "when nu_wgs is instead\n",
      " [[ 0  1  0 -1 -1  1]\n",
      " [ 1  0 -1  0 -1  1]]\n",
      "The transpose of nu_wgs is\n",
      " [[ 0  1]\n",
      " [ 1  0]\n",
      " [ 0 -1]\n",
      " [-1  0]\n",
      " [-1 -1]\n",
      " [ 1  1]]\n",
      "The dot product of nu_wgs and its inverse is\n",
      " [[4 2]\n",
      " [2 4]]\n",
      "The inverse of the nu dot nu_wgs is\n",
      " [[ 0.33333333 -0.16666667]\n",
      " [-0.16666667  0.33333333]]\n",
      "Therefore r_wgs is\n",
      " [[3.]\n",
      " [2.]]\n",
      "\n",
      "when nu_wgs is instead\n",
      " [[ 0  1  0 -1 -1  1]\n",
      " [-1  1  1 -1  0  0]]\n",
      "The transpose of nu_wgs is\n",
      " [[ 0 -1]\n",
      " [ 1  1]\n",
      " [ 0  1]\n",
      " [-1 -1]\n",
      " [-1  0]\n",
      " [ 1  0]]\n",
      "The dot product of nu_wgs and its inverse is\n",
      " [[4 2]\n",
      " [2 4]]\n",
      "The inverse of the nu dot nu_wgs is\n",
      " [[ 0.33333333 -0.16666667]\n",
      " [-0.16666667  0.33333333]]\n",
      "Therefore r_wgs is\n",
      " [[ 5.]\n",
      " [-2.]]\n"
     ]
    }
   ],
   "source": [
    "### Exercise 4\n",
    "\n",
    "R_wgs = np.array([[2,3,-2,-3,-5,5]]).T\n",
    "\n",
    "print('Imagine you see that R_wgs =\\n',R_wgs)\n",
    "\n",
    "#print('\\nnu_wgs is\\n', nu_wgs)\n",
    "#print('The transpose of nu_wgs is\\n',nu_wgs.T)\n",
    "#print('The dot product of nu_wgs and its inverse is\\n',np.dot(nu_wgs,nu_wgs.T))\n",
    "#print('The inverse of the nu dot nu_wgs is\\n',np.linalg.inv(np.dot(nu_wgs,nu_wgs.T)))\n",
    "#print('Therefore r_wgs is\\n',np.linalg.multi_dot([np.linalg.inv(np.dot(nu_wgs,nu_wgs.T)),nu_wgs,R_wgs]))\n",
    "\n",
    "nu_wgs_a = np.delete(nu_wgs,0,0)\n",
    "print('\\nwhen nu_wgs is instead\\n', nu_wgs_a)\n",
    "print('The transpose of nu_wgs is\\n',nu_wgs_a.T)\n",
    "print('The dot product of nu_wgs and its inverse is\\n',np.dot(nu_wgs_a,nu_wgs_a.T))\n",
    "print('The inverse of the nu dot nu_wgs is\\n',np.linalg.inv(np.dot(nu_wgs_a,nu_wgs_a.T)))\n",
    "print('Therefore r_wgs is\\n',np.linalg.multi_dot([np.linalg.inv(np.dot(nu_wgs_a,nu_wgs_a.T)),nu_wgs_a,R_wgs]))\n",
    "\n",
    "nu_wgs_b = np.delete(nu_wgs,1,0)\n",
    "print('\\nwhen nu_wgs is instead\\n', nu_wgs_b)\n",
    "print('The transpose of nu_wgs is\\n',nu_wgs_b.T)\n",
    "print('The dot product of nu_wgs and its inverse is\\n',np.dot(nu_wgs_b,nu_wgs_b.T))\n",
    "print('The inverse of the nu dot nu_wgs is\\n',np.linalg.inv(np.dot(nu_wgs_b,nu_wgs_b.T)))\n",
    "print('Therefore r_wgs is\\n',np.linalg.multi_dot([np.linalg.inv(np.dot(nu_wgs_b,nu_wgs_b.T)),nu_wgs_b,R_wgs]))\n",
    "\n",
    "nu_wgs_c = np.delete(nu_wgs,2,0)\n",
    "print('\\nwhen nu_wgs is instead\\n', nu_wgs_c)\n",
    "print('The transpose of nu_wgs is\\n',nu_wgs_c.T)\n",
    "print('The dot product of nu_wgs and its inverse is\\n',np.dot(nu_wgs_c,nu_wgs_c.T))\n",
    "print('The inverse of the nu dot nu_wgs is\\n',np.linalg.inv(np.dot(nu_wgs_c,nu_wgs_c.T)))\n",
    "print('Therefore r_wgs is\\n',np.linalg.multi_dot([np.linalg.inv(np.dot(nu_wgs_c,nu_wgs_c.T)),nu_wgs_c,R_wgs]))"
   ]
  },
  {
   "cell_type": "code",
   "execution_count": 9,
   "id": "809f5b44-b9ed-478e-a8fc-0f18088b4c14",
   "metadata": {
    "tags": []
   },
   "outputs": [
    {
     "name": "stdout",
     "output_type": "stream",
     "text": [
      "An array of random errors between -5% and +5% is\n",
      " [[1.03316943]\n",
      " [1.00611247]\n",
      " [0.98480032]\n",
      " [1.0318096 ]\n",
      " [1.04257477]\n",
      " [0.96540383]]\n",
      "\n",
      "The array of rates with errors is therefore\n",
      " [[ 2.06633885]\n",
      " [ 3.01833741]\n",
      " [-1.96960064]\n",
      " [-3.09542881]\n",
      " [-5.21287387]\n",
      " [ 4.82701915]]\n",
      "\n",
      "Therefore r_wgs from nu_wgs_a is\n",
      " [[3.038581  ]\n",
      " [5.03824863]]\n",
      "\n",
      "Therefore r_wgs from nu_wgs_b is\n",
      " [[3.038581  ]\n",
      " [1.99966763]]\n",
      "\n",
      "Therefore r_wgs from nu_wgs_c is\n",
      " [[ 5.03824863]\n",
      " [-1.99966763]]\n"
     ]
    }
   ],
   "source": [
    "### Exercise 5\n",
    "\n",
    "error = np.random.uniform(0.95,1.05,(6,1))\n",
    "print('An array of random errors between -5% and +5% is\\n', error)\n",
    "\n",
    "R_wgs_a = R_wgs*error\n",
    "print('\\nThe array of rates with errors is therefore\\n',R_wgs_a)\n",
    "\n",
    "print('\\nTherefore r_wgs from nu_wgs_a is\\n',np.linalg.multi_dot([np.linalg.inv(np.dot(nu_wgs_a,nu_wgs_a.T)),nu_wgs_a,R_wgs_a]))\n",
    "print('\\nTherefore r_wgs from nu_wgs_b is\\n',np.linalg.multi_dot([np.linalg.inv(np.dot(nu_wgs_b,nu_wgs_b.T)),nu_wgs_b,R_wgs_a]))\n",
    "print('\\nTherefore r_wgs from nu_wgs_c is\\n',np.linalg.multi_dot([np.linalg.inv(np.dot(nu_wgs_c,nu_wgs_c.T)),nu_wgs_c,R_wgs_a]))"
   ]
  },
  {
   "cell_type": "code",
   "execution_count": 10,
   "id": "fb91597d-a2ef-46b4-a4ab-a0e55e4e025a",
   "metadata": {
    "tags": []
   },
   "outputs": [
    {
     "name": "stdout",
     "output_type": "stream",
     "text": [
      "r2 average: 3.0022474629566624\n",
      "r3 average: 5.0069389331360545\n"
     ]
    },
    {
     "data": {
      "image/png": "[encoded data removed]",
      "text/plain": [
       "<Figure size 432x288 with 1 Axes>"
      ]
     },
     "metadata": {
      "needs_background": "light"
     },
     "output_type": "display_data"
    }
   ],
   "source": [
    "###### Exercise 6\n",
    "\n",
    "for i in range(500):\n",
    "        error = np.random.uniform(0.90,1.10,(6,1))\n",
    "        R_wgs_a = R_wgs*error\n",
    "        r_wgs_point = np.linalg.multi_dot([np.linalg.inv(np.dot(nu_wgs_a,nu_wgs_a.T)),nu_wgs_a,R_wgs_a])\n",
    "        if i==0:\n",
    "            r_wgs_with_errors = r_wgs_point\n",
    "        else:\n",
    "            r_wgs_with_errors = np.hstack((r_wgs_with_errors,r_wgs_point))\n",
    "\n",
    "r2_ave = np.average(r_wgs_with_errors[0,:])\n",
    "print('r2 average:',r2_ave)\n",
    "\n",
    "r3_ave = np.average(r_wgs_with_errors[1,:])\n",
    "print('r3 average:',r3_ave)\n",
    "            \n",
    "import matplotlib.pyplot as plt\n",
    "\n",
    "plt.plot(r_wgs_with_errors[0,:],r_wgs_with_errors[1,:],'o',markerfacecolor='none')\n",
    "plt.xlim(2.5,3.5)\n",
    "plt.ylim(4.5,5.5)\n",
    "plt.xlabel(r'$r_2$')\n",
    "plt.ylabel(r'$r_3$')\n",
    "plt.show()\n"
   ]
  },
  {
   "cell_type": "code",
   "execution_count": 13,
   "id": "1e1c2cfe-8c6f-4b32-8a22-9c8274b19a75",
   "metadata": {
    "tags": []
   },
   "outputs": [
    {
     "name": "stdout",
     "output_type": "stream",
     "text": [
      "Initial stoich matrix:\n",
      " [[ 0  1  0 -1 -1  1]\n",
      " [-1  1  1 -1  0  0]\n",
      " [ 1  0 -1  0 -1  1]]\n",
      "Stoich matrix after reaction 1 removed:\n",
      " [[ 0  1  0 -1 -1  1]\n",
      " [-1  1  1 -1  0  0]]\n",
      "Stoich matrix after other species removed:\n",
      " [[-1 -1]\n",
      " [-1  0]]\n",
      "Extents:\n",
      " [[2.]\n",
      " [0.]]\n",
      "Final moles:\n",
      " [[0.]\n",
      " [2.]\n",
      " [0.]\n",
      " [7.]\n",
      " [2.]\n",
      " [3.]]\n"
     ]
    }
   ],
   "source": [
    "###### Exercise 7\n",
    "\n",
    "N0 = np.array([[0,0,0,9,4,1]]).T\n",
    "\n",
    "known_species = [3,4]\n",
    "Np = np.array([[7,2]]).T\n",
    "\n",
    "N0p = N0[known_species,:]\n",
    "\n",
    "print('Initial stoich matrix:\\n',nu_wgs)\n",
    "\n",
    "nu_wgs_p = np.delete(nu_wgs,2,0)\n",
    "print('Stoich matrix after reaction 1 removed:\\n',nu_wgs_p)\n",
    "\n",
    "nu_wgs_pp = nu_wgs_p[:,known_species]\n",
    "print('Stoich matrix after other species removed:\\n',nu_wgs_pp)\n",
    "\n",
    "ext = np.linalg.multi_dot([np.linalg.inv(np.dot(nu_wgs_pp,nu_wgs_pp.T)),nu_wgs_pp,(Np-N0p)])\n",
    "print('Extents:\\n',ext)\n",
    "\n",
    "N = N0 + np.dot(nu_wgs_p.T,ext)\n",
    "\n",
    "print('Final moles:\\n',N)"
   ]
  },
  {
   "cell_type": "code",
   "execution_count": null,
   "id": "9faf0b48-d780-4df7-893a-2f0fceb2f5b1",
   "metadata": {},
   "outputs": [],
   "source": []
  }
 ],
 "metadata": {
  "kernelspec": {
   "display_name": "Python 3 (ipykernel)",
   "language": "python",
   "name": "python3"
  },
  "language_info": {
   "codemirror_mode": {
    "name": "ipython",
    "version": 3
   },
   "file_extension": ".py",
   "mimetype": "text/x-python",
   "name": "python",
   "nbconvert_exporter": "python",
   "pygments_lexer": "ipython3",
   "version": "3.9.12"
  }
 },
 "nbformat": 4,
 "nbformat_minor": 5
}
