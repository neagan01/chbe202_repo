{
 "cells": [
  {
   "cell_type": "markdown",
   "id": "bc5cf53e-1990-4dc9-aa02-f3c50417e037",
   "metadata": {},
   "source": [
    "# How to Use the Tufts ChBE 202 Binder"
   ]
  },
  {
   "cell_type": "markdown",
   "id": "68b8c828-d73b-4393-b537-d968785a63c3",
   "metadata": {},
   "source": [
    "This Binder is intended for use in the ChBE 202 course at Tufts University, specifically created for th"
   ]
  },
  {
   "cell_type": "code",
   "execution_count": null,
   "id": "bce7f371-274c-4862-81dc-519750e8fb29",
   "metadata": {},
   "outputs": [],
   "source": []
  }
 ],
 "metadata": {
  "kernelspec": {
   "display_name": "Python 3 (ipykernel)",
   "language": "python",
   "name": "python3"
  },
  "language_info": {
   "codemirror_mode": {
    "name": "ipython",
    "version": 3
   },
   "file_extension": ".py",
   "mimetype": "text/x-python",
   "name": "python",
   "nbconvert_exporter": "python",
   "pygments_lexer": "ipython3",
   "version": "3.9.12"
  }
 },
 "nbformat": 4,
 "nbformat_minor": 5
}
