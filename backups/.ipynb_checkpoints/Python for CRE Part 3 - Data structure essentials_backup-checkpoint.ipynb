{
 "cells": [
  {
   "cell_type": "markdown",
   "id": "6e0ed9b6-43f3-4bf9-9b66-db79ef4b4772",
   "metadata": {},
   "source": [
    "# Python for Chemical Reaction Engineering Part 3 - Data structure essentials"
   ]
  },
  {
   "cell_type": "markdown",
   "id": "db279b75-d3e9-4574-8582-95dd5fda691d",
   "metadata": {},
   "source": [
    "Data can be manipulated in different formats. There are many ways to do this, and they can be a bit tricky to handle"
   ]
  },
  {
   "cell_type": "markdown",
   "id": "b7548e15-1c5e-4b11-997f-fbe1a913c5fb",
   "metadata": {},
   "source": [
    "## Basic data types\n",
    "\n",
    "The three basic types of data:\n",
    "- **Scalars** are single values\n",
    "- **Strings** are single sets of letters\n",
    "- **Data structures** are sets of scalars and strings\n",
    "\n",
    "### Scalars\n",
    "\n",
    "This is a single value and can full under a few different *types*:\n",
    "\n",
    "- **int** refers to an integer. **Examples:** 1, 42, 1571\n",
    "- **float** is a floating doint decimal approximation of a value. This is often what we work with. **Examples:** 1.0, 3.14159,20.11111\n",
    "- **complex** refers to complex numbers that have an imaginary part. **Examples:** 4.2 + 6i. *Note: Python displays a 'j' instead of an 'i'*\n",
    "\n",
    "### Strings\n",
    "\n",
    "**str** refers to a 'string' of characters. These are declared in Python with single, double, or triple quotes. Often it will not matter which convention you use, but there are specific exceptions. Technically a string is not a 'scalar,' but for simplicity  **Examples:** 'A',\"Penguin\",''''Kevin the Penguin'''\n",
    "\n",
    "Another data type that is sort of an integer and sort of a string is a Boolean or **bool**. This is a binary entity which can either be 'True' or 'False.' In Python we can also not that True=1 and False=0 or [].\n",
    "\n",
    "### Data structures\n",
    "\n",
    "Oftentimes we will work with collections of scalars or strings, but usually just scalars. There are ***many*** ways to organize and manipulate data, all with major or subtle pros and cons. We will only use a few:\n",
    "\n",
    "- **Lists** are the default data structure. They are built into the basic programming of Python. A list is **indexed**, meaning that each element has an assigned index value, **ordered** meaning that the precise order of these indices is important, and **mutable**, meaning that the contents can be changed after creation. These can contain scalars or strings or both. It is also possible to add or remove entries with certain commands.\n",
    "- **Tuples** are like lists, but they are **immutable** meaning they can not be altered after creation-they can only be overwritten\n",
    "- **Dictionaries** are like lists but are **not ordered** and inlcude **keys** that can be used to access complex data with words rather than indices. A simple usage could be to create an atomic masses dictionary. Accessing the 'rhenium' entry could return 186.207.\n",
    "- **Numpy arrays** are mathematical arrays like those used by default in MATLAB and are **what we do most of our math with.** These are very similar to lists but are better suited for mathematical operations. They can have **multiple dimensions** and therefore also represent matrices. To use a numpy array, you have to first import the numpy package.\n",
    "- **Pandas dataframes** are sort of a hybrid between dictionaries and numpy arrays. They allow for easy, fast math with large sets of indexed data, and the data can be easily manipulated. We might create, for example, a dataframe containing columns of reaction times, conversions, concentrations, and selectivities. We can use these to quickly find the selectivity of a specific species at a specific time or even the selectivity of a species at a certain conversion.\n"
   ]
  },
  {
   "cell_type": "markdown",
   "id": "6fc95a80-3ca1-40f1-9cc7-fde727d7406b",
   "metadata": {},
   "source": [
    "## Working with data"
   ]
  },
  {
   "cell_type": "markdown",
   "id": "4e7d8a83-0c00-4a0c-a5fe-6c438badb7ef",
   "metadata": {},
   "source": [
    "### Defining and displaying values\n",
    "\n",
    "When a variable is first defined, the convention is simple-write the variable name, an equals sign, and then the value. To set x equal to 4 type:\n",
    "\n",
    "    x = 4\n",
    "    \n",
    "If you then end a code block with simply the name of the variable, it will print by default. If it is not the last line and you want to print the output, you can do so with the 'print' command:\n",
    "\n",
    "    print(x)\n",
    "    \n",
    "You can add a line break with '\\n'. Doing this more than once will add more than one line. By default, adding a new 'print' command will move you to the next line, so adding '\\n' to the beginning adds a blank row between the previous statment and the current one:\n",
    "\n",
    "    print('\\n',x,'\\n\\n\\n',x)\n",
    "    \n",
    "You can combine this with text like so:\n",
    "\n",
    "    print('\\n The value of x is',x)\n",
    "    \n",
    "To control the number of decimals, you can write it like this:\n",
    "    \n",
    "    print('\\n The value of x with 4 decimals is','{:.4f}'.format(x))\n",
    "    \n",
    "This reported the value as a float (thus the f) with 4 decimal points.\n",
    "\n",
    "We can now either redefine this variable or generate new ones from it.\n",
    "\n",
    "    x = 42\n",
    "    y = 2*x+1\n",
    "    print('\\n x is now',x,'and y is now',y)\n",
    "\n",
    "We define strings using quotations. When we add them together we get a new string where everything is stuck together:\n",
    "\n",
    "    string_1 = 'Chemical'\n",
    "    string_2 = 'Engineering'\n",
    "    string_3 = string_1 + string_2\n",
    "    print('\\n',string_1,'+',string_2,'=',string_3)\n",
    "    \n",
    "Note that a space was not automatically created. We would need to add a ' ' string in between to do so."
   ]
  },
  {
   "cell_type": "code",
   "execution_count": 169,
   "id": "fed97b5b-65c0-45d9-a8f7-415f8c94f909",
   "metadata": {},
   "outputs": [
    {
     "name": "stdout",
     "output_type": "stream",
     "text": [
      "4\n",
      "\n",
      " 4 \n",
      "\n",
      "\n",
      " 4\n",
      "\n",
      " The value of x is 4\n",
      "\n",
      " The value of x with 4 decimals is 4.0000\n",
      "\n",
      " x is now 42 and y is now 85\n",
      "\n",
      " Chemical + Engineering = ChemicalEngineering\n"
     ]
    }
   ],
   "source": [
    "x=4\n",
    "\n",
    "print(x)\n",
    "\n",
    "print('\\n',x,'\\n\\n\\n',x)\n",
    "\n",
    "print('\\n The value of x is',x)\n",
    "\n",
    "print('\\n The value of x with 4 decimals is','{:.4f}'.format(x))\n",
    "\n",
    "x = 42\n",
    "y = 2*x+1\n",
    "print('\\n x is now',x,'and y is now',y)\n",
    "\n",
    "string_1 = 'Chemical'\n",
    "string_2 = 'Engineering'\n",
    "string_3 = string_1 + string_2\n",
    "print('\\n',string_1,'+',string_2,'=',string_3)"
   ]
  },
  {
   "cell_type": "markdown",
   "id": "081340a7-f841-4f22-b961-c068c37fbb55",
   "metadata": {},
   "source": [
    "### Working with lists and tuples\n",
    "\n",
    "First we will talk about creating these. We will make one version of each that just has [10,20,30,40].\n",
    "\n",
    "    x_list = [10,20,30,40]\n",
    "    x_tuple = (10,20,30,40)\n",
    "\n",
    "Notice that a list uses square brackets and a tuple uses round brackets.\n",
    "\n",
    "We can determine the type of any data using the \"type\" command:\n",
    "\n",
    "    print('\\n x is a,'type(x))\n",
    "    print('\\n x_list is a,'type(x_list))\n",
    "    print('\\n x_tuple is a,'type(x_tuple))\n",
    "    \n",
    "Now it is important to understand **indexing**. The **Python convention is to start with index 0 rather than 1**, in constrast to some other languages such as MATLAB. To find the first element of each, use square brackets to select element 0:\n",
    "\n",
    "    print('\\n The first element of x_list is',x_list[0])\n",
    "    print('\\n The second element of x_tuple is',x_tuple[1])\n",
    "    \n",
    "The value of an element can be reassigned in a list but not in a tuple. For example, the third element (index 2) of the list can be changed to 100 as follows:\n",
    "    \n",
    "    x_list[2] = 100\n",
    "    print('\\n Now x_list is',x_list)\n",
    "    \n",
    "The same command for the tuple will not work.\n",
    "\n",
    "To add an element to a list, you can use **append**. Python sometimes uses **dot notation** to access **methods** like this. For example, we can add a fifth element equal to 45 to the list as follows:\n",
    "\n",
    "    x_list.append(45)\n",
    "    print('\\n Now x_list is',x_list)\n",
    "    \n",
    "You can also insert elements. For example, we can insert a '4' in the third element (index=2):\n",
    "\n",
    "    x_list.insert(2,4)\n",
    "    print('\\n Now x_list is',x_list)\n",
    "\n",
    "If you add two lists together, it just stacks them on top of each other. For example, adding list_1=[1,2,3] to list_2=[,40,50,60] could give either [1,2,3,40,50,60] or [40,50,60,1,2,3] depending on the order:\n",
    "\n",
    "    list_1 = [1,2,3]\n",
    "    list_2 = [40,50,60]\n",
    "    print('\\n list_1 + list2 =',list_1+list_2)\n",
    "    print('\\n list_2 + list1 =',list_2+list_1)\n",
    "\n",
    "Notice that no math was done in any of this. We could have used strings instead. For example:\n",
    "\n",
    "    list_strings_1 = ['ethanol','1-butanol','1-hexanol']\n",
    "    list_strings_2 = ['1-octanol','1-decanol']\n",
    "    print('\\n list_strings_1 =',list_strings_1)\n",
    "    print('\\n list_strings_2 =',list_strings_2)\n",
    "    print('\\n list_strings_1 + list_strings_2=',list_strings_1+list_strings_2)\n",
    "    \n",
    "The length of an array can be determined with the **len()** function:\n",
    "\n",
    "    print('\\n The length of x_list is',len(x_list))"
   ]
  },
  {
   "cell_type": "code",
   "execution_count": 170,
   "id": "efb5c60f-2a99-4bfe-92ee-8c1e463fabba",
   "metadata": {},
   "outputs": [
    {
     "name": "stdout",
     "output_type": "stream",
     "text": [
      "\n",
      " x is a <class 'int'>\n",
      "\n",
      " x_list is a <class 'list'>\n",
      "\n",
      " x_tuple is a <class 'tuple'>\n",
      "\n",
      " The first element of x_list is 10\n",
      "\n",
      " The second element of x_tuple is 20\n",
      "\n",
      " Now x_list is [10, 20, 100, 40]\n",
      "\n",
      " Now x_list is [10, 20, 100, 40, 45]\n",
      "\n",
      " Now x_list is [10, 20, 4, 100, 40, 45]\n",
      "\n",
      " list_1 + list2 = [1, 2, 3, 40, 50, 60]\n",
      "\n",
      " list_2 + list1 = [40, 50, 60, 1, 2, 3]\n",
      "\n",
      " list_strings_1 = ['ethanol', '1-butanol', '1-hexanol']\n",
      "\n",
      " list_strings_2 = ['1-octanol', '1-decanol']\n",
      "\n",
      " list_strings_1 + list_strings_2 = ['ethanol', '1-butanol', '1-hexanol', '1-octanol', '1-decanol']\n",
      "\n",
      " The length of x_list is 6\n"
     ]
    }
   ],
   "source": [
    "x = 42\n",
    "x_list = [10,20,30,40]\n",
    "x_tuple = (10,20,30,40)\n",
    "\n",
    "print('\\n x is a',type(x))\n",
    "print('\\n x_list is a',type(x_list))\n",
    "print('\\n x_tuple is a',type(x_tuple))\n",
    "\n",
    "print('\\n The first element of x_list is',x_list[0])\n",
    "print('\\n The second element of x_tuple is',x_tuple[1])\n",
    "\n",
    "x_list[2] = 100\n",
    "print('\\n Now x_list is',x_list)\n",
    "\n",
    "x_list.append(45)\n",
    "print('\\n Now x_list is',x_list)\n",
    "\n",
    "x_list.insert(2,4)\n",
    "print('\\n Now x_list is',x_list)\n",
    "\n",
    "list_1 = [1,2,3]\n",
    "list_2 = [40,50,60]\n",
    "print('\\n list_1 + list2 =',list_1+list_2)\n",
    "print('\\n list_2 + list1 =',list_2+list_1)\n",
    "\n",
    "list_strings_1 = ['ethanol','1-butanol','1-hexanol']\n",
    "list_strings_2 = ['1-octanol','1-decanol']\n",
    "print('\\n list_strings_1 =',list_strings_1)\n",
    "print('\\n list_strings_2 =',list_strings_2)\n",
    "print('\\n list_strings_1 + list_strings_2 =',list_strings_1+list_strings_2)\n",
    "\n",
    "print('\\n The length of x_list is',len(x_list))"
   ]
  },
  {
   "cell_type": "markdown",
   "id": "5860d432-2c65-4b03-9203-7aee75114f58",
   "metadata": {},
   "source": [
    "### Working with numpy arrays\n",
    "\n",
    "Many Python-based numerical evaluations involve numpy arrays. To use them, you first have to import numpy. It is conventional to import it 'as np' so that you can write 'np' instead of 'numpy' when you want to use it. This is done as follows:\n",
    "\n",
    "    import numpy as np\n",
    "    \n",
    "Once imported, you can define a numpy array from a list. Two ways of getting to the same numpy array containing [10,20,30,40] are as follows:\n",
    "\n",
    "    x_list = [10,20,30,40]\n",
    "    array_1 = np.array(x_list)\n",
    "    array_2 = np.array([10,20,30,40])\n",
    "    print('\\n Method 1 gives:',array_1)\n",
    "    print('\\n Method 2 gives:',array_2)\n",
    "    \n",
    "It is important to note, however, that these are *neither* row *nor* column vectors as written. These are purely \"one-dimensional\" and are not technically 1x4 arrays but rather 0x4 arrays. This can cause problems when doing math. To specify an array as a **row vector**, add another set of brackets:\n",
    "\n",
    "    array_1_row = np.array([[10,20,30,40]])\n",
    "    print('\\n A 1D row vector of the array is:\\n', array_1_row)\n",
    "\n",
    "A **column vector** is most easily created by making the **tranpose** of a row vector using the **.T** method:\n",
    "\n",
    "    array_1_column = np.array([[10,20,30,40]]).T\n",
    "    print('\\n A 1D column vector of array is:\\n', array_1_column)\n",
    "    \n",
    "Numpy elements can be changed in the same way as lists:\n",
    "\n",
    "    array_1[0] = 26\n",
    "    print('\\n array_1 is now',array_1)\n",
    "    \n",
    "**All elements can be mutiplied by a single value easily:**\n",
    "\n",
    "    print('\\n 2*array_1 =',2*array_1)\n",
    "    \n",
    "**Element-wise addition** can be done with a simple '+':\n",
    "\n",
    "    array_3 = np.array([1,2,3,4])\n",
    "    array_4 = array_1+array_3\n",
    "    print('\\n',array_1,'+',array_3,'=',array_4)\n",
    "    \n",
    "Element-wise subtraction is the same.\n",
    "\n",
    "**Element-wise multiplication** can be done with a simple '*':\n",
    "\n",
    "    array_5 = array_1*array_3\n",
    "    print('\\n',array_1,'*',array_3,'=',array_5)\n",
    "\n",
    "A **matrix dot product** uses the **np.dot** function:\n",
    "\n",
    "    array_6 = np.dot(array_1,array_1)\n",
    "    print('\\n',array_1,'dot',array_1,'=',array_6)\n",
    "    \n",
    "A matrix can be created either with **np.matrix()** or simply with **np.array()** but with two dimensions:\n",
    "\n",
    "    numpy_version = np.array(([1,2,3],[4,5,6]))\n",
    "    print('\\n 2D matrix:\\n',matrix_version)\n",
    "    print('\\n 2D array:\\n',numpy_version)\n",
    "\n",
    "Usually an array is better to work with. The main difference is what happens with default operations, such as multiplication. With numpy arrays, multiplication is element-wide. With matrices, it is the dot product.\n",
    "\n",
    "The **number of dimensions** in an array can be found with **.dim**:\n",
    "\n",
    "    print('\\n array_1 has',array_1.ndim,'dimensions')\n",
    "    print('\\n numpy_version has',numpy_version.dim,'dimensions')\n",
    "\n",
    "The **number of elements** can be read from **.size**:\n",
    "\n",
    "    print('\\n array_1 has',array_1.size,'elements')\n",
    "    print('\\n numpy_version has',numpy_version.size,'elements')\n",
    "\n",
    "The size of an array can be addressed with **np.shape()**. This is where the difference between a default 1D numpy array, row vector, and column vector will differ\n",
    "\n",
    "    print('\\n The shape of array_1 is',np.shape(array_1))\n",
    "    print('\\n The shape of numpy_version is',np.shape(numpy_version))\n",
    "    \n",
    "Note that the shape of the 1-D array is (5,) not (5,1) or (1,5). When a numpy array is made, it is **by default neither a row nor column vector**. **To turn a 1-D array into a row or column vecor**, the simplest method is to simply add an axis:\n",
    "\n",
    "    array_1_row = array_1[np.newaxis,:]\n",
    "    array_1_column = array_1[:,np.newaxis]\n",
    "    print('\\n array_1_row is',array_1_row,'with shape',np.shape(array_1_row))\n",
    "    print('\\n array_1_column is',array_1_column,'with shape',np.shape(array_1_column))\n",
    "\n",
    "Some **very convenient arrays** that can be generated include **arrays of all ones with np.ones(dim)**, **arrays of all zeros with np.zeros(dim)**, and **arrays with evenly spaced values with np.linspace(val1,val2,num=#elements):\n",
    "\n",
    "    print('\\n',np.ones(3,4))\n",
    "    print('\\n',np.zeros(3,4)\n",
    "    print('\\n',np.linspace(1,5,num = 11)\n",
    "    \n",
    "Appending is a bit different with numpy arrays. To add another element, you need to redefine your array using np.append(). For example, a fifth element of '6' can be added to array_1 as follows:\n",
    "\n",
    "    array_1 = np.append(array_1,6)\n",
    "    print('\\n array_1 is now',array_1)\n",
    "    \n",
    "Multiple arrays can be combined with **np.concatenate()**:\n",
    "\n",
    "    print('\\n Concatenating',array_1,'with',array_2,'gives',np.concatenate((array_1,array_2)))\n",
    "    \n",
    "Notice the double parentheses; this is important. You are putting in one element consisting of two arrays, not two elements that are each arrays. **This is an easy mistake to make**.\n",
    "\n",
    "Multiple **rows** of the **same size** can be **stacked** with **np.hstack** and the same is true with **columns** and **vstack**:\n",
    "\n",
    "    print('\\n',array_1_row,'on',2*array_1_row,'makes',np.hstack(array_1_row,2*array_1_row))\n",
    "\n",
    "Some final things to cover include **simple math on arrays** and **statistics**. You can add all elements together with **.sum()**, find the max value with **.max()**, find the min value with **.max()**, find the mean with **.mean()**.\n",
    "    \n",
    "    print('\\n array_1.sum() =',array_1.sum())\n",
    "    print('\\n array_1.max() =',array_1.max())\n",
    "    print('\\n array_1.min() =',array_1.min())\n",
    "    print('\\n array_1.mean() =',array_1.mean())\n"
   ]
  },
  {
   "cell_type": "code",
   "execution_count": 3,
   "id": "f134f4de-0381-484d-9ff8-2e8cc9b56a75",
   "metadata": {},
   "outputs": [
    {
     "name": "stdout",
     "output_type": "stream",
     "text": [
      "\n",
      " Method 1 gives: [10 20 30 40]\n",
      "\n",
      " Method 2 gives: [10 20 30 40]\n",
      "\n",
      " A 1D row vector of the array is:\n",
      " [[10 20 30 40]]\n",
      "\n",
      " A 1D column vector of array is:\n",
      " [[10]\n",
      " [20]\n",
      " [30]\n",
      " [40]]\n",
      "\n",
      " array_1 is now [26 20 30 40]\n",
      "\n",
      " 2*array_1 = [52 40 60 80]\n",
      "\n",
      " [26 20 30 40] + [1 2 3 4] = [27 22 33 44]\n",
      "\n",
      " [26 20 30 40] * [1 2 3 4] = [ 26  40  90 160]\n",
      "\n",
      " [26 20 30 40] dot [26 20 30 40] = 3576\n",
      "\n",
      " 2D matrix:\n",
      " [[1 2 3]\n",
      " [4 5 6]]\n",
      "\n",
      " 2D array:\n",
      " [[1 2 3]\n",
      " [4 5 6]]\n",
      "\n",
      " array_1 has 1 dimensions\n",
      "\n",
      " numpy_version has 2 dimensions\n",
      "\n",
      " array_1 has 4 elements\n",
      "\n",
      " numpy_version has 6 elements\n",
      "\n",
      " The shape of array_1 is (4,)\n",
      "\n",
      " The shape of array_1_row is (1, 4)\n",
      "\n",
      " The shape of array_1_column is (4, 1)\n",
      "\n",
      " The shape of numpy_version is (2, 3)\n",
      "\n",
      " array_1 is now [26 20 30 40  6]\n",
      "\n",
      " [[1. 1. 1. 1.]\n",
      " [1. 1. 1. 1.]\n",
      " [1. 1. 1. 1.]]\n",
      "\n",
      " [[0. 0. 0. 0.]\n",
      " [0. 0. 0. 0.]\n",
      " [0. 0. 0. 0.]]\n",
      "\n",
      " [1.  1.5 2.  2.5 3.  3.5 4.  4.5 5. ]\n",
      "\n",
      " Concatenating [26 20 30 40  6] with [10 20 30 40] gives [26 20 30 40  6 10 20 30 40]\n",
      "\n",
      " [[10 20 30 40]] \n",
      "on\n",
      " [[20 40 60 80]] \n",
      "makes\n",
      " [[10 20 30 40]\n",
      " [20 40 60 80]]\n",
      "\n",
      " [[10 20 30 40]] \n",
      "next to\n",
      " [[20 40 60 80]] \n",
      "makes\n",
      " [[10 20 30 40 20 40 60 80]]\n",
      "\n",
      " [[10]\n",
      " [20]\n",
      " [30]\n",
      " [40]] \n",
      "next to\n",
      " [[20]\n",
      " [40]\n",
      " [60]\n",
      " [80]] \n",
      "makes\n",
      " [[10 20]\n",
      " [20 40]\n",
      " [30 60]\n",
      " [40 80]]\n",
      "\n",
      " array_1.sum() = 122\n",
      "\n",
      " array_1.max() = 40\n",
      "\n",
      " array_1.min() = 6\n",
      "\n",
      " array_1.mean() = 24.4\n"
     ]
    }
   ],
   "source": [
    "import numpy as np\n",
    "\n",
    "x_list = [10,20,30,40]\n",
    "array_1 = np.array(x_list)\n",
    "array_2 = np.array([10,20,30,40])\n",
    "print('\\n Method 1 gives:',array_1)\n",
    "print('\\n Method 2 gives:',array_2)\n",
    "\n",
    "array_1_row = np.array([[10,20,30,40]])\n",
    "print('\\n A 1D row vector of the array is:\\n', array_1_row)\n",
    "\n",
    "array_1_column = np.array([[10,20,30,40]]).T\n",
    "print('\\n A 1D column vector of array is:\\n', array_1_column)\n",
    "\n",
    "array_1[0] = 26\n",
    "print('\\n array_1 is now',array_1)\n",
    "\n",
    "print('\\n 2*array_1 =',2*array_1)\n",
    "\n",
    "array_3 = np.array([1,2,3,4])\n",
    "array_4 = array_1+array_3\n",
    "print('\\n',array_1,'+',array_3,'=',array_4)\n",
    "\n",
    "array_5 = array_1*array_3\n",
    "print('\\n',array_1,'*',array_3,'=',array_5)\n",
    "\n",
    "array_6 = np.dot(array_1,array_1)\n",
    "print('\\n',array_1,'dot',array_1,'=',array_6)\n",
    "\n",
    "matrix_version = np.matrix(([1,2,3],[4,5,6]))\n",
    "numpy_version = np.array(([1,2,3],[4,5,6]))\n",
    "print('\\n 2D matrix:\\n',matrix_version)\n",
    "print('\\n 2D array:\\n',numpy_version)\n",
    "\n",
    "print('\\n array_1 has',array_1.ndim,'dimensions')\n",
    "print('\\n numpy_version has',numpy_version.ndim,'dimensions')\n",
    "\n",
    "print('\\n array_1 has',array_1.size,'elements')\n",
    "print('\\n numpy_version has',numpy_version.size,'elements')\n",
    "\n",
    "print('\\n The shape of array_1 is',np.shape(array_1))\n",
    "print('\\n The shape of array_1_row is',np.shape(array_1_row))\n",
    "print('\\n The shape of array_1_column is',np.shape(array_1_column))\n",
    "print('\\n The shape of numpy_version is',np.shape(numpy_version))\n",
    "\n",
    "array_1 = np.append(array_1,6)\n",
    "print('\\n array_1 is now',array_1)\n",
    "\n",
    "print('\\n',np.ones([3,4]))\n",
    "print('\\n',np.zeros([3,4]))\n",
    "print('\\n',np.linspace(1,5,num=9))\n",
    "\n",
    "print('\\n Concatenating',array_1,'with',array_2,'gives',np.concatenate((array_1,array_2)))\n",
    "\n",
    "print('\\n',array_1_row,'\\non\\n',2*array_1_row,'\\nmakes\\n',np.vstack((array_1_row,2*array_1_row)))\n",
    "print('\\n',array_1_row,'\\nnext to\\n',2*array_1_row,'\\nmakes\\n',np.hstack((array_1_row,2*array_1_row)))\n",
    "print('\\n',array_1_column,'\\nnext to\\n',2*array_1_column,'\\nmakes\\n',np.hstack((array_1_column,2*array_1_column)))\n",
    "\n",
    "print('\\n array_1.sum() =',array_1.sum())\n",
    "print('\\n array_1.max() =',array_1.max())\n",
    "print('\\n array_1.min() =',array_1.min())\n",
    "print('\\n array_1.mean() =',array_1.mean())"
   ]
  },
  {
   "cell_type": "markdown",
   "id": "dbc5c5eb-f872-4b4c-affa-9e5fca0bd47d",
   "metadata": {},
   "source": [
    "### Working with numpy arrays\n",
    "\n",
    "Many Python-based numerical evaluations involve numpy arrays. To use them, you first have to import numpy. It is conventional to import it 'as np' so that you can write 'np' instead of 'numpy' when you want to use it. This is done as follows:"
   ]
  },
  {
   "cell_type": "code",
   "execution_count": 9,
   "id": "56f5329a-405b-411c-8b89-4959cc6f6fe5",
   "metadata": {},
   "outputs": [],
   "source": [
    "import numpy as np"
   ]
  },
  {
   "cell_type": "markdown",
   "id": "70ae78fe-1c7e-43ca-af7c-f552b0394deb",
   "metadata": {},
   "source": [
    "Once imported, you can define a numpy array from a list. Two ways of getting to the same numpy array containing [10,20,30,40] are as follows:"
   ]
  },
  {
   "cell_type": "code",
   "execution_count": 31,
   "id": "12f71548-5212-4872-9102-80519da66380",
   "metadata": {},
   "outputs": [
    {
     "name": "stdout",
     "output_type": "stream",
     "text": [
      "Method 1 gives: [10 20 30 40]\n",
      "Method 2 gives: [10 20 30 40]\n"
     ]
    }
   ],
   "source": [
    "x_list = [10,20,30,40]\n",
    "array_1 = np.array(x_list)\n",
    "array_2 = np.array([10,20,30,40])\n",
    "print('Method 1 gives:',array_1)\n",
    "print('Method 2 gives:',array_2)"
   ]
  },
  {
   "cell_type": "markdown",
   "id": "0cb9e348-c895-4b24-9f57-5d4374c94522",
   "metadata": {},
   "source": [
    "It is important to note, however, that these are *neither* row *nor* column vectors as written. These are purely \"one-dimensional\" and are not technically 1x4 arrays but rather 0x4 arrays. This can cause problems when doing math. To specify an array as a **row vector**, add another set of brackets:"
   ]
  },
  {
   "cell_type": "code",
   "execution_count": 11,
   "id": "e6bd4a94-6c3c-43e5-b7bc-2938814fdb01",
   "metadata": {},
   "outputs": [
    {
     "name": "stdout",
     "output_type": "stream",
     "text": [
      "\n",
      " A 1D row vector of the array is:\n",
      " [[10 20 30 40]]\n"
     ]
    }
   ],
   "source": [
    "array_1_row = np.array([[10,20,30,40]])\n",
    "print('A 1D row vector of the array is:\\n', array_1_row)"
   ]
  },
  {
   "cell_type": "markdown",
   "id": "65c18fa0-01ba-4b36-ad55-0ea98dc299f3",
   "metadata": {},
   "source": [
    "A **column vector** is most easily created by making the **tranpose** of a row vector using the **.T** method:"
   ]
  },
  {
   "cell_type": "code",
   "execution_count": 12,
   "id": "e94e9490-88be-4e03-9876-1d44121d3074",
   "metadata": {},
   "outputs": [
    {
     "name": "stdout",
     "output_type": "stream",
     "text": [
      "\n",
      " A 1D column vector of array is:\n",
      " [[10]\n",
      " [20]\n",
      " [30]\n",
      " [40]]\n"
     ]
    }
   ],
   "source": [
    "array_1_column = np.array([[10,20,30,40]]).T\n",
    "print('A 1D column vector of array is:\\n', array_1_column)"
   ]
  },
  {
   "cell_type": "markdown",
   "id": "27c3691c-82d3-4151-a29a-1a9503a6ef0b",
   "metadata": {},
   "source": [
    "Numpy elements can be changed in the same way as lists:"
   ]
  },
  {
   "cell_type": "code",
   "execution_count": 13,
   "id": "6f46dab6-1ba4-4e4b-b66b-8aa18761beb2",
   "metadata": {},
   "outputs": [
    {
     "name": "stdout",
     "output_type": "stream",
     "text": [
      "\n",
      " array_1 is now [26 20 30 40]\n"
     ]
    }
   ],
   "source": [
    "array_1[0] = 26\n",
    "print('array_1 is now',array_1)"
   ]
  },
  {
   "cell_type": "markdown",
   "id": "a7da217b-c746-402e-b54a-43960ef999c7",
   "metadata": {},
   "source": [
    "**All elements can be mutiplied by a single value easily:**"
   ]
  },
  {
   "cell_type": "code",
   "execution_count": 14,
   "id": "22c31076-846a-478a-99d1-8ce876d29e7f",
   "metadata": {},
   "outputs": [
    {
     "name": "stdout",
     "output_type": "stream",
     "text": [
      "\n",
      " 2*array_1 = [52 40 60 80]\n"
     ]
    }
   ],
   "source": [
    "print('2*array_1 =',2*array_1)"
   ]
  },
  {
   "cell_type": "markdown",
   "id": "fe3edec9-a703-40b8-bed0-cffca795b108",
   "metadata": {},
   "source": [
    "**Element-wise addition** can be done with a simple '+':"
   ]
  },
  {
   "cell_type": "code",
   "execution_count": 32,
   "id": "1cadf4c7-4f65-421a-97a1-5735f4eb1eba",
   "metadata": {},
   "outputs": [
    {
     "name": "stdout",
     "output_type": "stream",
     "text": [
      "[10 20 30 40] + [1 2 3 4] = [11 22 33 44]\n"
     ]
    }
   ],
   "source": [
    "array_3 = np.array([1,2,3,4])\n",
    "array_4 = array_1+array_3\n",
    "print(array_1,'+',array_3,'=',array_4)"
   ]
  },
  {
   "cell_type": "markdown",
   "id": "b18a4f7f-071d-4f49-bbeb-c8d9b11c6dbe",
   "metadata": {},
   "source": [
    "Element-wise subtraction is the same.\n",
    "\n",
    "**Element-wise multiplication** can be done with a simple '*':"
   ]
  },
  {
   "cell_type": "code",
   "execution_count": 33,
   "id": "460fa246-f483-473f-a3b4-600ee16150b4",
   "metadata": {},
   "outputs": [
    {
     "name": "stdout",
     "output_type": "stream",
     "text": [
      "[10 20 30 40] * [1 2 3 4] = [ 10  40  90 160]\n"
     ]
    }
   ],
   "source": [
    "array_5 = array_1*array_3\n",
    "print(array_1,'*',array_3,'=',array_5)"
   ]
  },
  {
   "cell_type": "markdown",
   "id": "c76e27e1-3465-47bd-b884-5d562d0a5a22",
   "metadata": {},
   "source": [
    "A **matrix dot product** uses the **np.dot** function:"
   ]
  },
  {
   "cell_type": "code",
   "execution_count": 34,
   "id": "61f7e4a7-eaeb-4bb4-8cc6-17d53220c6b6",
   "metadata": {},
   "outputs": [
    {
     "name": "stdout",
     "output_type": "stream",
     "text": [
      "[[10 20 30 40]] \n",
      "dot\n",
      " [[10]\n",
      " [20]\n",
      " [30]\n",
      " [40]] = 3000\n"
     ]
    }
   ],
   "source": [
    "array_6 = np.dot(array_1,array_1)\n",
    "print(array_1_row,'\\ndot\\n',array_1_column,'=',array_6)"
   ]
  },
  {
   "cell_type": "markdown",
   "id": "c5ad657e-927f-43c3-a2c8-d9f5494e3578",
   "metadata": {},
   "source": [
    "A matrix can be created either with **np.matrix()** or simply with **np.array()** but with two dimensions:"
   ]
  },
  {
   "cell_type": "code",
   "execution_count": 28,
   "id": "3839b3f7-f458-444b-a127-cb193403fea2",
   "metadata": {},
   "outputs": [
    {
     "name": "stdout",
     "output_type": "stream",
     "text": [
      "2D matrix:\n",
      " [[1 2 3]\n",
      " [4 5 6]]\n",
      "\n",
      "2D array:\n",
      " [[1 2 3]\n",
      " [4 5 6]]\n"
     ]
    }
   ],
   "source": [
    "numpy_version = np.array(([1,2,3],[4,5,6]))\n",
    "print('2D matrix:\\n',matrix_version)\n",
    "print('\\n2D array:\\n',numpy_version)"
   ]
  },
  {
   "cell_type": "markdown",
   "id": "bbe52499-a338-4bcb-a661-0a025818a759",
   "metadata": {},
   "source": [
    "Usually an array is better to work with. The main difference is what happens with default operations, such as multiplication. With numpy arrays, multiplication is element-wide. With matrices, it is the dot product.\n",
    "\n",
    "The **number of dimensions** in an array can be found with **.dim**:"
   ]
  },
  {
   "cell_type": "code",
   "execution_count": 23,
   "id": "95375d87-5955-4e8f-a49f-f73bf07f31f6",
   "metadata": {},
   "outputs": [
    {
     "name": "stdout",
     "output_type": "stream",
     "text": [
      "array_1 has 1 dimensions\n",
      "numpy_version has 2 dimensions\n"
     ]
    }
   ],
   "source": [
    "print('array_1 has',array_1.ndim,'dimensions')\n",
    "print('numpy_version has',numpy_version.ndim,'dimensions')"
   ]
  },
  {
   "cell_type": "markdown",
   "id": "ca5c50bf-60e8-4e74-a7ab-3eed86ab3f26",
   "metadata": {},
   "source": [
    "The **number of elements** can be read from **.size**:"
   ]
  },
  {
   "cell_type": "code",
   "execution_count": 30,
   "id": "161c2379-dfef-47d9-85d5-321666ee7434",
   "metadata": {},
   "outputs": [
    {
     "name": "stdout",
     "output_type": "stream",
     "text": [
      "array_1 has 4 elements\n",
      "numpy_version has 6 elements\n"
     ]
    }
   ],
   "source": [
    "print('array_1 has',array_1.size,'elements')\n",
    "print('numpy_version has',numpy_version.size,'elements')"
   ]
  },
  {
   "cell_type": "markdown",
   "id": "7c29d867-4a90-457a-9c95-8b5d8ef20e1a",
   "metadata": {},
   "source": [
    "The size of an array can be addressed with **np.shape()**. This is where the difference between a default 1D numpy array, row vector, and column vector will differ"
   ]
  },
  {
   "cell_type": "code",
   "execution_count": 29,
   "id": "a17e252a-cd3f-4926-9cc0-66a1ecc44b70",
   "metadata": {},
   "outputs": [
    {
     "name": "stdout",
     "output_type": "stream",
     "text": [
      "The shape of array_1 is (4,)\n",
      "The shape of numpy_version is (2, 3)\n"
     ]
    }
   ],
   "source": [
    "print('The shape of array_1 is',np.shape(array_1))\n",
    "print('The shape of numpy_version is',np.shape(numpy_version))"
   ]
  },
  {
   "cell_type": "markdown",
   "id": "02ce2c9f-615b-473e-b004-6fd9b6130b61",
   "metadata": {},
   "source": [
    "Note that the shape of the 1-D array is (5,) not (5,1) or (1,5). When a numpy array is made, it is **by default neither a row nor column vector**. **To turn a 1-D array into a row or column vecor**, the simplest method is to simply add an axis:"
   ]
  },
  {
   "cell_type": "code",
   "execution_count": 35,
   "id": "6a97d96f-fabf-48e6-a52f-443b1fe3278a",
   "metadata": {},
   "outputs": [
    {
     "name": "stdout",
     "output_type": "stream",
     "text": [
      "array_1_row is [[10 20 30 40]] with shape (1, 4)\n",
      "array_1_column is [[10]\n",
      " [20]\n",
      " [30]\n",
      " [40]] with shape (4, 1)\n"
     ]
    }
   ],
   "source": [
    "array_1_row = array_1[np.newaxis,:]\n",
    "array_1_column = array_1[:,np.newaxis]\n",
    "print('array_1_row is',array_1_row,'with shape',np.shape(array_1_row))\n",
    "print('array_1_column is',array_1_column,'with shape',np.shape(array_1_column))"
   ]
  },
  {
   "cell_type": "markdown",
   "id": "d6d89505-9cf7-4f65-9218-0036465857ef",
   "metadata": {},
   "source": [
    "Some **very convenient arrays** that can be generated include **arrays of all ones with np.ones(dim)**, **arrays of all zeros with np.zeros(dim)**, and **arrays with evenly spaced values with np.linspace(val1,val2,num=#elements):"
   ]
  },
  {
   "cell_type": "code",
   "execution_count": 39,
   "id": "05f6eccb-805a-4432-b84a-b16f65135aee",
   "metadata": {},
   "outputs": [
    {
     "name": "stdout",
     "output_type": "stream",
     "text": [
      "\n",
      " [[1. 1. 1. 1.]\n",
      " [1. 1. 1. 1.]\n",
      " [1. 1. 1. 1.]]\n",
      "\n",
      " [[0. 0. 0. 0.]\n",
      " [0. 0. 0. 0.]\n",
      " [0. 0. 0. 0.]]\n",
      "\n",
      " [1.  1.5 2.  2.5 3.  3.5 4.  4.5 5. ]\n"
     ]
    }
   ],
   "source": [
    "print('\\n',np.ones([3,4]))\n",
    "print('\\n',np.zeros([3,4]))\n",
    "print('\\n',np.linspace(1,5,num=9))"
   ]
  },
  {
   "cell_type": "markdown",
   "id": "547be520-c8ff-41cb-9e4f-984a59a5462e",
   "metadata": {},
   "source": [
    "You can also append to numpy arrays like with lists, but it is slightly different. To add another element, you need to redefine your array using np.append(). For example, a fifth element of '6' can be added to array_1 as follows:"
   ]
  },
  {
   "cell_type": "code",
   "execution_count": 40,
   "id": "636b9ca2-cedd-4e09-8ec0-decbcd9589c2",
   "metadata": {},
   "outputs": [
    {
     "name": "stdout",
     "output_type": "stream",
     "text": [
      "\n",
      " array_1 is now [10 20 30 40  6]\n"
     ]
    }
   ],
   "source": [
    "array_1 = np.append(array_1,6)\n",
    "print('\\n array_1 is now',array_1)"
   ]
  },
  {
   "cell_type": "markdown",
   "id": "326b5e1f-27f7-4e72-be0c-ea9171c6715a",
   "metadata": {},
   "source": [
    "Multiple arrays can be combined with **np.concatenate()**:"
   ]
  },
  {
   "cell_type": "code",
   "execution_count": 41,
   "id": "4e53cee7-e852-4985-9b89-04bcadad5c90",
   "metadata": {},
   "outputs": [
    {
     "name": "stdout",
     "output_type": "stream",
     "text": [
      "\n",
      " Concatenating [10 20 30 40  6] with [10 20 30 40] gives [10 20 30 40  6 10 20 30 40]\n"
     ]
    }
   ],
   "source": [
    "print('\\n Concatenating',array_1,'with',array_2,'gives',np.concatenate((array_1,array_2)))"
   ]
  },
  {
   "cell_type": "markdown",
   "id": "e67412c0-0ef2-4084-b856-2fdd09ba2b84",
   "metadata": {},
   "source": [
    "Notice the double parentheses; this is important. You are putting in one element consisting of two arrays, not two elements that are each arrays. **This is an easy mistake to make**.\n",
    "\n",
    "Multiple **rows** of the **same size** can be **stacked** with **np.hstack** and the same is true with **columns** and **vstack**:"
   ]
  },
  {
   "cell_type": "code",
   "execution_count": 44,
   "id": "399c2f35-67f9-4243-b935-a8c7139b40e9",
   "metadata": {},
   "outputs": [
    {
     "name": "stdout",
     "output_type": "stream",
     "text": [
      "[[10 20 30 40]] \n",
      "on\n",
      " [[20 40 60 80]] \n",
      "makes\n",
      " [[10 20 30 40]\n",
      " [20 40 60 80]]\n",
      "\n",
      " [[10 20 30 40]] \n",
      "next to\n",
      " [[20 40 60 80]] \n",
      "makes\n",
      " [[10 20 30 40 20 40 60 80]]\n",
      "\n",
      " [[10]\n",
      " [20]\n",
      " [30]\n",
      " [40]] \n",
      "next to\n",
      " [[20]\n",
      " [40]\n",
      " [60]\n",
      " [80]] \n",
      "makes\n",
      " [[10 20]\n",
      " [20 40]\n",
      " [30 60]\n",
      " [40 80]]\n"
     ]
    }
   ],
   "source": [
    "print(array_1_row,'\\non\\n',2*array_1_row,'\\nmakes\\n',np.vstack((array_1_row,2*array_1_row)))\n",
    "print('\\n',array_1_row,'\\nnext to\\n',2*array_1_row,'\\nmakes\\n',np.hstack((array_1_row,2*array_1_row)))\n",
    "print('\\n',array_1_column,'\\nnext to\\n',2*array_1_column,'\\nmakes\\n',np.hstack((array_1_column,2*array_1_column)))"
   ]
  },
  {
   "cell_type": "markdown",
   "id": "6e6fdf9f-779d-4d65-a634-9533f025844a",
   "metadata": {},
   "source": [
    "Some final things to cover include **simple math on arrays** and **statistics**. You can add all elements together with **.sum()**, find the max value with **.max()**, find the min value with **.max()**, find the mean with **.mean()**."
   ]
  },
  {
   "cell_type": "code",
   "execution_count": 45,
   "id": "eabd1208-d433-4cdb-904a-662389746e36",
   "metadata": {},
   "outputs": [
    {
     "name": "stdout",
     "output_type": "stream",
     "text": [
      "\n",
      " array_1.sum() = 106\n",
      "\n",
      " array_1.max() = 40\n",
      "\n",
      " array_1.min() = 6\n",
      "\n",
      " array_1.mean() = 21.2\n"
     ]
    }
   ],
   "source": [
    "print('\\n array_1.sum() =',array_1.sum())\n",
    "print('\\n array_1.max() =',array_1.max())\n",
    "print('\\n array_1.min() =',array_1.min())\n",
    "print('\\n array_1.mean() =',array_1.mean())"
   ]
  },
  {
   "cell_type": "markdown",
   "id": "edfda647-4592-4d60-af7d-d6361e04058d",
   "metadata": {},
   "source": [
    "## Some more miscellaneous tips\n",
    "\n",
    "Access the last element in a list with [-1]. For example:\n",
    "\n",
    "    x_list = [1,2,3,4,99]\n",
    "    print('\\n The last element in',x_list,'is',x_list[-1])\n",
    "\n",
    "Access an entire row or column with ':' instead of a specific element. For example:\n",
    "\n",
    "    x_2D = np.array(([1,2,3],[8,1,1]))\n",
    "    x_2D_row_first = x_2D[0,:]\n",
    "    x_2D_column_last = x_2D[:,-1]\n",
    "    print('\\n x_2D is\\n',x_2D) \n",
    "    print('\\n The first row in x_2D is',x_2D_row_first)\n",
    "    print('\\n The last column in x_2D is',x_2D_column_last)\n",
    "\n",
    "Change a numpy array to a list with .tolist():\n",
    "    \n",
    "    import numpy as np\n",
    "    numpy_ones = np.ones(6)\n",
    "    list_ones = numpy_ones.tolist()\n",
    "    print('\\n numpy_ones type is',type(numpy_ones))\n",
    "    print('\\n list_ones type is',type(list_ones))"
   ]
  },
  {
   "cell_type": "code",
   "execution_count": 197,
   "id": "5e128cb1-75e8-4b8a-b5e0-327c3a82c10f",
   "metadata": {},
   "outputs": [
    {
     "name": "stdout",
     "output_type": "stream",
     "text": [
      "\n",
      " The last element in [1, 2, 3, 4, 99] is 99\n",
      "\n",
      " x_2D is\n",
      " [[1 2 3]\n",
      " [8 1 1]]\n",
      "\n",
      " The first row in x_2D is [1 2 3]\n",
      "\n",
      " The last column in x_2D is [3 1]\n",
      "\n",
      " numpy_ones type is <class 'numpy.ndarray'>\n",
      "\n",
      " list_ones type is <class 'list'>\n"
     ]
    }
   ],
   "source": [
    "x_list = [1,2,3,4,99]\n",
    "print('\\n The last element in',x_list,'is',x_list[-1])\n",
    "\n",
    "x_2D = np.array(([1,2,3],[8,1,1]))\n",
    "x_2D_row_first = x_2D[0,:]\n",
    "x_2D_column_last = x_2D[:,-1]\n",
    "print('\\n x_2D is\\n',x_2D) \n",
    "print('\\n The first row in x_2D is',x_2D_row_first)\n",
    "print('\\n The last column in x_2D is',x_2D_column_last)\n",
    "\n",
    "import numpy as np\n",
    "numpy_ones = np.ones(6)\n",
    "list_ones = numpy_ones.tolist()\n",
    "print('\\n numpy_ones type is',type(numpy_ones))\n",
    "print('\\n list_ones type is',type(list_ones))"
   ]
  },
  {
   "cell_type": "markdown",
   "id": "06619ec9-a0b6-4aa2-abfe-b97406166e97",
   "metadata": {},
   "source": [
    "## Additional information\n",
    "\n",
    "We may use additional data structures at some point, but for now this is sufficient. You can always search for the documentation or simply 'how to do a thing' online. There are many forums such as Stack Overflow where people have asked and answered many of the questions you are likely to ask."
   ]
  },
  {
   "cell_type": "code",
   "execution_count": 193,
   "id": "1c8b0fc2-fdc3-4f76-8edb-c74d3ee8006c",
   "metadata": {},
   "outputs": [
    {
     "ename": "AttributeError",
     "evalue": "'numpy.ndarray' object has no attribute 'to_list'",
     "output_type": "error",
     "traceback": [
      "\u001b[1;31m---------------------------------------------------------------------------\u001b[0m",
      "\u001b[1;31mAttributeError\u001b[0m                            Traceback (most recent call last)",
      "Input \u001b[1;32mIn [194]\u001b[0m, in \u001b[0;36m<cell line: 1>\u001b[1;34m()\u001b[0m\n\u001b[1;32m----> 1\u001b[0m \u001b[43mnp\u001b[49m\u001b[38;5;241;43m.\u001b[39;49m\u001b[43mones\u001b[49m\u001b[43m(\u001b[49m\u001b[38;5;241;43m6\u001b[39;49m\u001b[43m)\u001b[49m\u001b[38;5;241;43m.\u001b[39;49m\u001b[43mto_list\u001b[49m()\n",
      "\u001b[1;31mAttributeError\u001b[0m: 'numpy.ndarray' object has no attribute 'to_list'"
     ]
    }
   ],
   "source": [
    "np.ones(6)"
   ]
  },
  {
   "cell_type": "code",
   "execution_count": null,
   "id": "3b1e5d99-4baa-456b-a0a5-d94c3eaf16f0",
   "metadata": {},
   "outputs": [],
   "source": []
  }
 ],
 "metadata": {
  "kernelspec": {
   "display_name": "Python 3 (ipykernel)",
   "language": "python",
   "name": "python3"
  },
  "language_info": {
   "codemirror_mode": {
    "name": "ipython",
    "version": 3
   },
   "file_extension": ".py",
   "mimetype": "text/x-python",
   "name": "python",
   "nbconvert_exporter": "python",
   "pygments_lexer": "ipython3",
   "version": "3.9.12"
  }
 },
 "nbformat": 4,
 "nbformat_minor": 5
}
