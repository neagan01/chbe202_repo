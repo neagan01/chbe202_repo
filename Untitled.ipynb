{
 "cells": [
  {
   "cell_type": "markdown",
   "id": "400c8c8c-3f4b-43cb-b66e-7f6fd70c2e5b",
   "metadata": {},
   "source": [
    "$\\nu$"
   ]
  },
  {
   "cell_type": "code",
   "execution_count": null,
   "id": "620363da-83c6-4dcb-b95b-5affef51d0b4",
   "metadata": {},
   "outputs": [],
   "source": []
  }
 ],
 "metadata": {
  "kernelspec": {
   "display_name": "Python 3 (ipykernel)",
   "language": "python",
   "name": "python3"
  },
  "language_info": {
   "codemirror_mode": {
    "name": "ipython",
    "version": 3
   },
   "file_extension": ".py",
   "mimetype": "text/x-python",
   "name": "python",
   "nbconvert_exporter": "python",
   "pygments_lexer": "ipython3",
   "version": "3.9.12"
  }
 },
 "nbformat": 4,
 "nbformat_minor": 5
}
