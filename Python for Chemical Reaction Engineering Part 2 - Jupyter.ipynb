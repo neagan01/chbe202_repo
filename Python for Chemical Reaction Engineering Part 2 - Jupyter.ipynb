{
 "cells": [
  {
   "cell_type": "markdown",
   "id": "5fe7d512-9fe3-417b-a624-514b43f697cf",
   "metadata": {},
   "source": [
    "# Python for Chemical Reaction Engineering Part 2 - Jupyter"
   ]
  },
  {
   "cell_type": "markdown",
   "id": "fe569ec5-c4c3-4037-bb3f-c0443cce80b1",
   "metadata": {},
   "source": [
    "## Project Jupyter\n",
    "\n",
    "Sounds cool, right? The \"Ju\" references the \"Julia\" coding language, the \"Py\" references \"Python\" (which itself is a references to \"Monty Python\"), and \"Ter\" is a reference to \"R\" while also spelling out a cool word which is a reference to Galileo and his discovery of the Moons of Jupiter as detailed in his own (less-sophisticated) notebooks. https://jupyter.org/ \n",
    "\n",
    "## Literate programming\n",
    "\n",
    "A Jupyter Notebook is a live document which brings together code annotation cells in the \"Markdown\" format (how this was written), code cells, and code cell outputs all in one place. This type of programming is often called \"literate\" programming because it is easier to read. Compared to a collection of simple executable .py files, this form makes it easier to understand what everything in a code is, why it is, and what it does. This facilitates sharing of codes and ideas especially among those like me who use coding simply as one of many tools for their work (rather than a data scientist). Data scientists may find interpreting a code trivial and would never have the time to annotate tens of thousands of lines of code to our hundreds.\n",
    "\n",
    "## Jupyter Notebook *versus* JupyterLab\n",
    "\n",
    "A Jupyter Notebook itself can be opened and run using the \"Jupyter Notebook\" app on your computer. When you go, it will open a window in your default browser in a default directory (unless you change it). Then you can open up a notebook from the file explorer.\n",
    "\n",
    "![im2](images/jupyter_notebook_open.gif)\n",
    "\n",
    "## Jupyter Notebook extensions\n",
    "\n",
    "When transitioning to a \"non-literate\" language, some \"debugging\" tools can be lost. Jupyter Notebook is currently missing a few ideal features that can be found with nb_extensions. Once downloaded, you can add some tweaks to your code. When I work I use the following:\n",
    "\n",
    "- Codefolding\n",
    "- Live Markdown Preview\n",
    "- Variable Inspector\n",
    "- Toggle all line numbers\n",
    "\n",
    "Most of these are fairly self-explanatory. At a later date I'll actually explain what they are. But I have a paper to submit. For now, you can get started by going to https://jupyter-contrib-nbextensions.readthedocs.io/en/latest/install.html \n",
    "\n",
    "Note that these features may have been built for an older version of Jupyter Notebooks than yours. So far I've been fine.\n",
    "\n",
    "## JupyterLab\n"
   ]
  },
  {
   "cell_type": "markdown",
   "id": "8ed19121-53cb-41c4-bfcc-6da8e2c74ff0",
   "metadata": {},
   "source": []
  },
  {
   "cell_type": "code",
   "execution_count": null,
   "id": "90691fb6-140e-494b-ad55-e737d333f984",
   "metadata": {},
   "outputs": [],
   "source": []
  }
 ],
 "metadata": {
  "kernelspec": {
   "display_name": "Python 3 (ipykernel)",
   "language": "python",
   "name": "python3"
  },
  "language_info": {
   "codemirror_mode": {
    "name": "ipython",
    "version": 3
   },
   "file_extension": ".py",
   "mimetype": "text/x-python",
   "name": "python",
   "nbconvert_exporter": "python",
   "pygments_lexer": "ipython3",
   "version": "3.9.12"
  }
 },
 "nbformat": 4,
 "nbformat_minor": 5
}
